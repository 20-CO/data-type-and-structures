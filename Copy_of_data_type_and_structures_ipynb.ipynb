{
  "nbformat": 4,
  "nbformat_minor": 0,
  "metadata": {
    "colab": {
      "provenance": []
    },
    "kernelspec": {
      "name": "python3",
      "display_name": "Python 3"
    },
    "language_info": {
      "name": "python"
    }
  },
  "cells": [
    {
      "cell_type": "markdown",
      "source": [
        "# **DATA TYPE AND STRUCTURES QUESTIONS**"
      ],
      "metadata": {
        "id": "NUqA9a4STGVz"
      }
    },
    {
      "cell_type": "markdown",
      "source": [
        "**1. What are data structures, and why are they important ?**"
      ],
      "metadata": {
        "id": "kglzGyDBTgBh"
      }
    },
    {
      "cell_type": "markdown",
      "source": [
        "*Data structures have specialized formet to orgaanised and store data and provide various ways to assces or store data according to specific need *\n",
        "\n",
        "*data structure is important\n",
        "\n",
        "*   choosing a well data structure can simplified the implitation like adding a data , removing  and so on.\n",
        "*   it can optimise searching and storing operations\n",
        "\n",
        "\n",
        "\n",
        "\n"
      ],
      "metadata": {
        "id": "Jc6pCbLOT5za"
      }
    },
    {
      "cell_type": "markdown",
      "source": [
        "\n",
        "\n",
        "---\n",
        "\n"
      ],
      "metadata": {
        "id": "F8YPZ54VhKbQ"
      }
    },
    {
      "cell_type": "markdown",
      "source": [
        "**2. Explain the difference between mutable and immutable data types with example**"
      ],
      "metadata": {
        "id": "DEs6kTDrT5vz"
      }
    },
    {
      "cell_type": "markdown",
      "source": [
        "*mutable data type are the data type which can be change after the creation and can be mofified according to need\n",
        "          for example : list*\n",
        "\n",
        "*immutable data type , which can not be modified after the creation    \n",
        "          for example : string & tuples*          "
      ],
      "metadata": {
        "id": "UVDeCRlGT5tX"
      }
    },
    {
      "cell_type": "markdown",
      "source": [
        "****"
      ],
      "metadata": {
        "id": "bBxFp8WFf7dw"
      }
    },
    {
      "cell_type": "markdown",
      "source": [
        "**** 3. what are the main diffrence between lists and tuples in python ?**"
      ],
      "metadata": {
        "id": "RKq8HbbMgeZB"
      }
    },
    {
      "cell_type": "markdown",
      "source": [
        "*some of the main diffrences are:-*\n",
        "\n",
        "\n",
        "*   list are created by using  '[ ] ' and tuples are crated by using '( )'\n",
        "*   lists are consider as mutable where tuples consider as immutable"
      ],
      "metadata": {
        "id": "q1znB7IaT5l1"
      }
    },
    {
      "cell_type": "markdown",
      "source": [
        "\n",
        "\n",
        "---\n",
        "\n"
      ],
      "metadata": {
        "id": "E4yGSRE1T5jw"
      }
    },
    {
      "cell_type": "markdown",
      "source": [
        "4.**Describe how dictionaries store data**"
      ],
      "metadata": {
        "id": "298kUMFelIat"
      }
    },
    {
      "cell_type": "markdown",
      "source": [
        "*dictionaries can not store data directly but can store by using key or value using function or by converting them to lists *"
      ],
      "metadata": {
        "id": "lU2RZEAllaaL"
      }
    },
    {
      "cell_type": "markdown",
      "source": [
        "\n",
        "\n",
        "---\n",
        "\n"
      ],
      "metadata": {
        "id": "whOcLgklnhip"
      }
    },
    {
      "cell_type": "markdown",
      "source": [
        "5. **Why might you use a set instead of a list in Python?**"
      ],
      "metadata": {
        "id": "CZaoLhQOnjYE"
      }
    },
    {
      "cell_type": "markdown",
      "source": [
        "*sets dosen't allows duplicate elements and have unordered and unique collection of elements *"
      ],
      "metadata": {
        "id": "f9NK8XaJoHbA"
      }
    },
    {
      "cell_type": "markdown",
      "source": [
        "\n",
        "\n",
        "---\n",
        "\n"
      ],
      "metadata": {
        "id": "c2vRg5GDBDFZ"
      }
    },
    {
      "cell_type": "markdown",
      "source": [
        "6.**What is a string in Python, and how is it different from a list**"
      ],
      "metadata": {
        "id": "AWHJcGSxT5hK"
      }
    },
    {
      "cell_type": "markdown",
      "source": [
        "*string is a sequence of charecter and consider as textual data and that charecter are represent using numerical values  where as list can contain any datatype*"
      ],
      "metadata": {
        "id": "DfHf22YYT5en"
      }
    },
    {
      "cell_type": "markdown",
      "source": [
        "\n",
        "\n",
        "---\n",
        "\n"
      ],
      "metadata": {
        "id": "bq_lpLsR_6JM"
      }
    },
    {
      "cell_type": "markdown",
      "source": [
        "7. **How do tuples ensure data integrity in Python**"
      ],
      "metadata": {
        "id": "LYOp41-fT5cM"
      }
    },
    {
      "cell_type": "markdown",
      "source": [
        "*tuples are immutable which means it can not change  modified and remain constant life time*"
      ],
      "metadata": {
        "id": "no7LmkEcT5Zy"
      }
    },
    {
      "cell_type": "markdown",
      "source": [
        "\n",
        "\n",
        "---\n",
        "\n"
      ],
      "metadata": {
        "id": "6IMXzAQGBrsu"
      }
    },
    {
      "cell_type": "markdown",
      "source": [
        "8.**What is a hash table, and how does it relate to dictionaries in Python**"
      ],
      "metadata": {
        "id": "bkj9CIhyT5XF"
      }
    },
    {
      "cell_type": "markdown",
      "source": [
        "*hash table is a datastructer which allows to store a collection of key *"
      ],
      "metadata": {
        "id": "nGZDB0siT5Uq"
      }
    },
    {
      "cell_type": "markdown",
      "source": [
        "\n",
        "\n",
        "---\n",
        "\n"
      ],
      "metadata": {
        "id": "N1ek0UrJErUZ"
      }
    },
    {
      "cell_type": "markdown",
      "source": [
        "9.**Can lists contain different data types in Python**"
      ],
      "metadata": {
        "id": "38q-6j7yT5SZ"
      }
    },
    {
      "cell_type": "markdown",
      "source": [
        "*yes , lists can contain diffrent type in python*"
      ],
      "metadata": {
        "id": "lajyYpzXT5Pq"
      }
    },
    {
      "cell_type": "markdown",
      "source": [
        "\n",
        "\n",
        "---\n",
        "\n"
      ],
      "metadata": {
        "id": "lIfP3NUoFlE7"
      }
    },
    {
      "cell_type": "markdown",
      "source": [
        "10.**Explain why strings are immutable in Python**"
      ],
      "metadata": {
        "id": "V7lhCsjKT5Ib"
      }
    },
    {
      "cell_type": "markdown",
      "source": [
        "*strings are immutable in python which means it cannot change or modified after creation*"
      ],
      "metadata": {
        "id": "1gqi0TL6T5F2"
      }
    },
    {
      "cell_type": "markdown",
      "source": [
        "\n",
        "\n",
        "---\n",
        "\n"
      ],
      "metadata": {
        "id": "InYp-Sy8GTX4"
      }
    },
    {
      "cell_type": "markdown",
      "source": [
        "11.**What advantages do dictionaries offer over lists for certain tasks**"
      ],
      "metadata": {
        "id": "i9APDIRzT5De"
      }
    },
    {
      "cell_type": "markdown",
      "source": [
        "*dictionaries have unique key values and each key word act as unique identifications for an associated value which means everything canbe find easily*"
      ],
      "metadata": {
        "id": "FZapWH0xT5BF"
      }
    },
    {
      "cell_type": "markdown",
      "source": [
        "\n",
        "\n",
        "---\n",
        "\n"
      ],
      "metadata": {
        "id": "mbswTKZnJPnQ"
      }
    },
    {
      "cell_type": "markdown",
      "source": [
        "12.**Describe a scenario where using a tuple would be preferable over a list**"
      ],
      "metadata": {
        "id": "9DL47hNDT48I"
      }
    },
    {
      "cell_type": "markdown",
      "source": [
        "*tuples would be preferable over a list when the collection of elements has not to change and want as immutable*"
      ],
      "metadata": {
        "id": "oW8uhEngT45o"
      }
    },
    {
      "cell_type": "markdown",
      "source": [
        "\n",
        "\n",
        "---\n",
        "\n"
      ],
      "metadata": {
        "id": "L5e44iZdT43H"
      }
    },
    {
      "cell_type": "markdown",
      "source": [
        "13.**How do sets handle duplicate values in Python**"
      ],
      "metadata": {
        "id": "R3WnSiSiT40g"
      }
    },
    {
      "cell_type": "markdown",
      "source": [
        "*sets dosen't allows duplicate values or elements which means it dosen't print them*\n",
        "for example;"
      ],
      "metadata": {
        "id": "PHg5UU_WT4x9"
      }
    },
    {
      "cell_type": "code",
      "source": [
        "s = {1,2,3,4,5,2,1,4,}\n",
        "s"
      ],
      "metadata": {
        "colab": {
          "base_uri": "https://localhost:8080/"
        },
        "id": "mx9wx5YA6Hr8",
        "outputId": "4bccaaea-b361-472c-880e-6dbea2cb429e"
      },
      "execution_count": 1,
      "outputs": [
        {
          "output_type": "execute_result",
          "data": {
            "text/plain": [
              "{1, 2, 3, 4, 5}"
            ]
          },
          "metadata": {},
          "execution_count": 1
        }
      ]
    },
    {
      "cell_type": "markdown",
      "source": [
        "\n",
        "\n",
        "---\n",
        "\n"
      ],
      "metadata": {
        "id": "e_-EcNZvNYhl"
      }
    },
    {
      "cell_type": "markdown",
      "source": [
        "14.**How does the “in” keyword work differently for lists and dictionaries**"
      ],
      "metadata": {
        "id": "KunIMVmnT4vQ"
      }
    },
    {
      "cell_type": "markdown",
      "source": [
        "*in lists the key word 'in' use to show that the given word in list is true and really present in list like if a list contains \"apple,mango,orange,banana then the 'in' key word shows that apple is in the list is true *  \n",
        "*In dictionaries the key word 'in' is use to put two things together like student name & marks or vegetables names & price"
      ],
      "metadata": {
        "id": "sSo4AyezT4sX"
      }
    },
    {
      "cell_type": "markdown",
      "source": [
        "\n",
        "\n",
        "---\n",
        "\n"
      ],
      "metadata": {
        "id": "4NMpvAfvT4pg"
      }
    },
    {
      "cell_type": "markdown",
      "source": [
        "15.**Can you modify the elements of a tuple? Explain why or why not**"
      ],
      "metadata": {
        "id": "Fo2vfpGqT4mu"
      }
    },
    {
      "cell_type": "markdown",
      "source": [
        "*tuple is immutable and can not be modified because once it created it can not modified*"
      ],
      "metadata": {
        "id": "L1cVoYmnT4kG"
      }
    },
    {
      "cell_type": "markdown",
      "source": [
        "\n",
        "\n",
        "---\n",
        "\n"
      ],
      "metadata": {
        "id": "lRAawH1uT4hO"
      }
    },
    {
      "cell_type": "markdown",
      "source": [
        "16.**What is a nested dictionary, and give an example of its use case**"
      ],
      "metadata": {
        "id": "h2uCeX7UT4ec"
      }
    },
    {
      "cell_type": "markdown",
      "source": [
        "*in nested dictionary the Dictionaries contain another dictonary as value and these nested dicitionary can be asscess just like other dicitinary*"
      ],
      "metadata": {
        "id": "yDG27i_DYOs5"
      }
    },
    {
      "cell_type": "code",
      "source": [
        "Dict = { 'Dict1':{'name':'rohan','rollno.':'21'},\n",
        "        'Dict2': {'name':'jay','rollno.':'22'}}\n",
        "\n",
        "Dict\n",
        ""
      ],
      "metadata": {
        "colab": {
          "base_uri": "https://localhost:8080/"
        },
        "id": "QNPvPPIhKT0F",
        "outputId": "0eb31b6d-faaf-48fb-e653-4aa022735e3c"
      },
      "execution_count": 11,
      "outputs": [
        {
          "output_type": "execute_result",
          "data": {
            "text/plain": [
              "{'Dict1': {'name': 'rohan', 'rollno.': '21'},\n",
              " 'Dict2': {'name': 'jay', 'rollno.': '22'}}"
            ]
          },
          "metadata": {},
          "execution_count": 11
        }
      ]
    },
    {
      "cell_type": "markdown",
      "source": [
        "\n",
        "\n",
        "---\n",
        "\n"
      ],
      "metadata": {
        "id": "zUFNQSzIT4cE"
      }
    },
    {
      "cell_type": "markdown",
      "source": [
        "17.**Describe the time complexity of accessing elements in a dictionary**"
      ],
      "metadata": {
        "id": "xM4Av6gQT4YV"
      }
    },
    {
      "cell_type": "markdown",
      "source": [
        "*the time complexity of accessing elements in a dictionary is constant amount of time*"
      ],
      "metadata": {
        "id": "hhsaUFPMamGu"
      }
    },
    {
      "cell_type": "markdown",
      "source": [
        "\n",
        "\n",
        "---\n",
        "\n"
      ],
      "metadata": {
        "id": "QNT6T2dyT4FA"
      }
    },
    {
      "cell_type": "markdown",
      "source": [
        "18.**In what situations are lists preferred over dictionaries**"
      ],
      "metadata": {
        "id": "nv4aQL1DOqVI"
      }
    },
    {
      "cell_type": "markdown",
      "source": [
        "*lists can be preferred over dictionaries when the input information has to arranged in normal manner and not in a specific and unique way"
      ],
      "metadata": {
        "id": "odykFKsZOqQ-"
      }
    },
    {
      "cell_type": "markdown",
      "source": [
        "\n",
        "\n",
        "---\n",
        "\n"
      ],
      "metadata": {
        "id": "GXQ4LNOIOqN5"
      }
    },
    {
      "cell_type": "markdown",
      "source": [
        "19.**Why are dictionaries considered unordered, and how does that affect data retrieval**"
      ],
      "metadata": {
        "id": "NDDUUTqOOqLX"
      }
    },
    {
      "cell_type": "markdown",
      "source": [
        "*dictionaries considered unordered because the elements are not stored in specific order , it ensures consistency in data collection and usege"
      ],
      "metadata": {
        "id": "jHUc_30vOqI4"
      }
    },
    {
      "cell_type": "markdown",
      "source": [
        "\n",
        "\n",
        "---\n",
        "\n"
      ],
      "metadata": {
        "id": "VtMJNucWOpm7"
      }
    },
    {
      "cell_type": "markdown",
      "source": [
        "20.**Explain the difference between a list and a dictionary in terms of data retrieval.**"
      ],
      "metadata": {
        "id": "oddIrgjuOpjm"
      }
    },
    {
      "cell_type": "markdown",
      "source": [
        "*list is a ordered collection of data where as dictionary is unordered collection of data and by this the elements in list can be access by index which is not possible in dictionary because in this the elements are not assecc by index*"
      ],
      "metadata": {
        "id": "9XJQsty-OphT"
      }
    },
    {
      "cell_type": "markdown",
      "source": [
        "\n",
        "\n",
        "---\n",
        "\n"
      ],
      "metadata": {
        "id": "BiYqqLGSOpe4"
      }
    },
    {
      "cell_type": "markdown",
      "source": [
        "\n",
        "\n",
        "---\n",
        "\n"
      ],
      "metadata": {
        "id": "2JpDGKHvOpcm"
      }
    },
    {
      "cell_type": "markdown",
      "source": [
        "# Practical Questions"
      ],
      "metadata": {
        "id": "fIv1fMwQOpaS"
      }
    },
    {
      "cell_type": "markdown",
      "source": [
        "(1)**Write a code to create a string with your name and print it**"
      ],
      "metadata": {
        "id": "fBHusfR3OpYE"
      }
    },
    {
      "cell_type": "code",
      "source": [
        "string1 = \"bhumika\"\n",
        "string1"
      ],
      "metadata": {
        "id": "VcbIwhu0Pf_t",
        "colab": {
          "base_uri": "https://localhost:8080/",
          "height": 36
        },
        "outputId": "604336d6-d6ee-4958-d542-84e3ea5c39a9"
      },
      "execution_count": 13,
      "outputs": [
        {
          "output_type": "execute_result",
          "data": {
            "text/plain": [
              "'bhumika'"
            ],
            "application/vnd.google.colaboratory.intrinsic+json": {
              "type": "string"
            }
          },
          "metadata": {},
          "execution_count": 13
        }
      ]
    },
    {
      "cell_type": "markdown",
      "source": [
        "(2)**Write a code to find the length of the string \"Hello World\"**"
      ],
      "metadata": {
        "id": "i8KT-j92PhEe"
      }
    },
    {
      "cell_type": "code",
      "source": [
        "str1 = input(\"please enter your string :\")\n",
        "print(\"total length of given string = \", len(str1))"
      ],
      "metadata": {
        "colab": {
          "base_uri": "https://localhost:8080/"
        },
        "id": "_eTBjgCoPhka",
        "outputId": "49e6ac35-bd0b-4b33-a7e4-49836e78bf17"
      },
      "execution_count": null,
      "outputs": [
        {
          "output_type": "stream",
          "name": "stdout",
          "text": [
            "please enter your string :hello world\n",
            "total length of given string =  11\n"
          ]
        }
      ]
    },
    {
      "cell_type": "markdown",
      "source": [
        "(3)**Write a code to slice the first 3 characters from the string \"Python Programming\"**"
      ],
      "metadata": {
        "id": "VsMZ5evoPh87"
      }
    },
    {
      "cell_type": "code",
      "source": [
        "string1 = \"python programming\"\n",
        "string1"
      ],
      "metadata": {
        "colab": {
          "base_uri": "https://localhost:8080/",
          "height": 36
        },
        "id": "E6hLlY7MPimz",
        "outputId": "6f28f4e6-13ec-4163-bb57-c7ee534b5ab8"
      },
      "execution_count": null,
      "outputs": [
        {
          "output_type": "execute_result",
          "data": {
            "text/plain": [
              "'python programming'"
            ],
            "application/vnd.google.colaboratory.intrinsic+json": {
              "type": "string"
            }
          },
          "metadata": {},
          "execution_count": 3
        }
      ]
    },
    {
      "cell_type": "code",
      "source": [
        "string1[3:]"
      ],
      "metadata": {
        "colab": {
          "base_uri": "https://localhost:8080/",
          "height": 36
        },
        "id": "6P9tMltLhj09",
        "outputId": "5f2a55d2-edbc-427e-cd3f-8c95c2761765"
      },
      "execution_count": null,
      "outputs": [
        {
          "output_type": "execute_result",
          "data": {
            "text/plain": [
              "'hon programming'"
            ],
            "application/vnd.google.colaboratory.intrinsic+json": {
              "type": "string"
            }
          },
          "metadata": {},
          "execution_count": 5
        }
      ]
    },
    {
      "cell_type": "markdown",
      "source": [
        "(4)**Write a code to convert the string \"hello\" to uppercase**"
      ],
      "metadata": {
        "id": "N-KvAUcYPjKq"
      }
    },
    {
      "cell_type": "code",
      "source": [
        "text = \"hello\"\n",
        "text.upper()"
      ],
      "metadata": {
        "colab": {
          "base_uri": "https://localhost:8080/",
          "height": 36
        },
        "id": "jOqel3cIPjl3",
        "outputId": "8a1f7f34-8a3e-4880-bb9b-9990fcd9db37"
      },
      "execution_count": null,
      "outputs": [
        {
          "output_type": "execute_result",
          "data": {
            "text/plain": [
              "'HELLO'"
            ],
            "application/vnd.google.colaboratory.intrinsic+json": {
              "type": "string"
            }
          },
          "metadata": {},
          "execution_count": 6
        }
      ]
    },
    {
      "cell_type": "markdown",
      "source": [
        "(5)**Write a code to replace the word \"apple\" with \"orange\" in the string \"I like apple\"**"
      ],
      "metadata": {
        "id": "lbNrUqYcPj-z"
      }
    },
    {
      "cell_type": "code",
      "source": [
        "string1 = \"i like apple\"\n",
        "string1.replace(\"apple\" ,\"orange\")\n"
      ],
      "metadata": {
        "id": "8GOUtQCHPkb7",
        "colab": {
          "base_uri": "https://localhost:8080/",
          "height": 36
        },
        "outputId": "6b514c40-e30b-4116-ac30-4b70f4e93d46"
      },
      "execution_count": 18,
      "outputs": [
        {
          "output_type": "execute_result",
          "data": {
            "text/plain": [
              "'i like orange'"
            ],
            "application/vnd.google.colaboratory.intrinsic+json": {
              "type": "string"
            }
          },
          "metadata": {},
          "execution_count": 18
        }
      ]
    },
    {
      "cell_type": "markdown",
      "source": [
        "(6)**Write a code to create a list with numbers 1 to 5 and print it**"
      ],
      "metadata": {
        "id": "Qg8_aQEjQIC_"
      }
    },
    {
      "cell_type": "code",
      "source": [
        "list(range(0,6))\n"
      ],
      "metadata": {
        "colab": {
          "base_uri": "https://localhost:8080/"
        },
        "id": "joss-W0HQIlE",
        "outputId": "38cec8bb-dba5-4bd4-8d5f-7d215f7e65b7"
      },
      "execution_count": null,
      "outputs": [
        {
          "output_type": "execute_result",
          "data": {
            "text/plain": [
              "[0, 1, 2, 3, 4, 5]"
            ]
          },
          "metadata": {},
          "execution_count": 7
        }
      ]
    },
    {
      "cell_type": "markdown",
      "source": [
        "(7)**Write a code to append the number 10 to the list [1, 2, 3, 4]**\n"
      ],
      "metadata": {
        "id": "BuqL_w4XQw1W"
      }
    },
    {
      "cell_type": "code",
      "source": [
        "list = [1,2,3,4]\n",
        "list"
      ],
      "metadata": {
        "id": "hkwGOSpMQxak",
        "colab": {
          "base_uri": "https://localhost:8080/"
        },
        "outputId": "171db93c-4602-4995-d99d-8b60432e03be"
      },
      "execution_count": 23,
      "outputs": [
        {
          "output_type": "execute_result",
          "data": {
            "text/plain": [
              "[1, 2, 3, 4]"
            ]
          },
          "metadata": {},
          "execution_count": 23
        }
      ]
    },
    {
      "cell_type": "code",
      "source": [
        "list.append(10)\n",
        "list"
      ],
      "metadata": {
        "colab": {
          "base_uri": "https://localhost:8080/"
        },
        "id": "LvwtNf9ZPIzC",
        "outputId": "1301294f-c5b9-4897-9c36-be269ef26c21"
      },
      "execution_count": 25,
      "outputs": [
        {
          "output_type": "execute_result",
          "data": {
            "text/plain": [
              "[1, 2, 3, 4, 10]"
            ]
          },
          "metadata": {},
          "execution_count": 25
        }
      ]
    },
    {
      "cell_type": "markdown",
      "source": [
        "(8)**Write a code to remove the number 3 from the list [1, 2, 3, 4, 5]**"
      ],
      "metadata": {
        "id": "Dv-lWnS3QxwG"
      }
    },
    {
      "cell_type": "code",
      "source": [
        "list = [1,2,3,4,5]"
      ],
      "metadata": {
        "id": "DJQqtCAbkVBU"
      },
      "execution_count": 26,
      "outputs": []
    },
    {
      "cell_type": "code",
      "source": [
        "list.remove(3)"
      ],
      "metadata": {
        "id": "Xmzs1wYcPzRI"
      },
      "execution_count": 27,
      "outputs": []
    },
    {
      "cell_type": "code",
      "source": [
        "list"
      ],
      "metadata": {
        "colab": {
          "base_uri": "https://localhost:8080/"
        },
        "id": "m5tijaqMP309",
        "outputId": "bcf0583a-28f4-4d80-bd89-dd5c1b83161c"
      },
      "execution_count": 28,
      "outputs": [
        {
          "output_type": "execute_result",
          "data": {
            "text/plain": [
              "[1, 2, 4, 5]"
            ]
          },
          "metadata": {},
          "execution_count": 28
        }
      ]
    },
    {
      "cell_type": "markdown",
      "source": [
        "(9)**Write a code to access the second element in the list ['a', 'b', 'c', 'd']**"
      ],
      "metadata": {
        "id": "JAtveWJHQyv3"
      }
    },
    {
      "cell_type": "code",
      "source": [
        "alphabets = ['a','b','c','d']"
      ],
      "metadata": {
        "id": "B-K5ZMYhQzH9"
      },
      "execution_count": null,
      "outputs": []
    },
    {
      "cell_type": "code",
      "source": [
        "alphabets"
      ],
      "metadata": {
        "colab": {
          "base_uri": "https://localhost:8080/"
        },
        "id": "u8p0XRutmmmv",
        "outputId": "0ccfa24f-9ef7-406e-afa5-56da001c6b4e"
      },
      "execution_count": null,
      "outputs": [
        {
          "output_type": "execute_result",
          "data": {
            "text/plain": [
              "['a', 'b', 'c', 'd']"
            ]
          },
          "metadata": {},
          "execution_count": 26
        }
      ]
    },
    {
      "cell_type": "code",
      "source": [
        "alphabets [1]"
      ],
      "metadata": {
        "colab": {
          "base_uri": "https://localhost:8080/",
          "height": 36
        },
        "id": "Xl_enahkpYf8",
        "outputId": "0ac6b227-2347-4866-8d99-0102b04b2b96"
      },
      "execution_count": null,
      "outputs": [
        {
          "output_type": "execute_result",
          "data": {
            "text/plain": [
              "'b'"
            ],
            "application/vnd.google.colaboratory.intrinsic+json": {
              "type": "string"
            }
          },
          "metadata": {},
          "execution_count": 28
        }
      ]
    },
    {
      "cell_type": "markdown",
      "source": [
        "(10)**Write a code to reverse the list [10, 20, 30, 40, 50].**"
      ],
      "metadata": {
        "id": "P1FHnF8_Qzgo"
      }
    },
    {
      "cell_type": "code",
      "source": [
        "list = ['10','20','30','40','50']\n",
        "list.reverse()\n",
        "print(list)\n"
      ],
      "metadata": {
        "colab": {
          "base_uri": "https://localhost:8080/"
        },
        "id": "ZkrN8KEaRiyn",
        "outputId": "9b05d182-d4d7-49aa-b749-32a11965ecde"
      },
      "execution_count": 37,
      "outputs": [
        {
          "output_type": "stream",
          "name": "stdout",
          "text": [
            "['50', '40', '30', '20', '10']\n"
          ]
        }
      ]
    },
    {
      "cell_type": "markdown",
      "source": [
        "(11)**Write a code to create a tuple with the elements 10, 20, 30 and print it**"
      ],
      "metadata": {
        "id": "WKG-tMRDRjV9"
      }
    },
    {
      "cell_type": "code",
      "source": [
        "t = (10,20,30)"
      ],
      "metadata": {
        "id": "_FKLGXOQRrl8"
      },
      "execution_count": null,
      "outputs": []
    },
    {
      "cell_type": "markdown",
      "source": [
        "(12)**Write a code to create a tuple with the elements 10, 20, 30 and print it**"
      ],
      "metadata": {
        "id": "Zf-EoZYdRsO6"
      }
    },
    {
      "cell_type": "code",
      "source": [
        "t = (10,20,30)"
      ],
      "metadata": {
        "id": "4lXsUrWSRzcM"
      },
      "execution_count": null,
      "outputs": []
    },
    {
      "cell_type": "markdown",
      "source": [
        "(13)**Write a code to count how many times the number 2 appears in the tuple (1, 2, 3, 2, 4, 2).**"
      ],
      "metadata": {
        "id": "NVoHuyxhRz4_"
      }
    },
    {
      "cell_type": "code",
      "source": [
        "t= (1,2,3,2,4,2)\n",
        "count = t.count(2)\n",
        "print(count)"
      ],
      "metadata": {
        "id": "9Krz9rEIR-NV",
        "colab": {
          "base_uri": "https://localhost:8080/"
        },
        "outputId": "e8e346d6-fdef-4d7f-8c2d-cd180407c755"
      },
      "execution_count": 38,
      "outputs": [
        {
          "output_type": "stream",
          "name": "stdout",
          "text": [
            "3\n"
          ]
        }
      ]
    },
    {
      "cell_type": "markdown",
      "source": [
        "(14)**Write a code to find the index of the element \"cat\" in the tuple ('dog', 'cat', 'rabbit').**"
      ],
      "metadata": {
        "id": "x1G7NDK1R-u8"
      }
    },
    {
      "cell_type": "code",
      "source": [
        "t = ('dog','cat','rabbit')\n",
        "t[0]"
      ],
      "metadata": {
        "id": "OyGtX_IHQ0GW",
        "colab": {
          "base_uri": "https://localhost:8080/",
          "height": 36
        },
        "outputId": "d4579b2e-b46f-445c-e3e1-1816ddf2455c"
      },
      "execution_count": 41,
      "outputs": [
        {
          "output_type": "execute_result",
          "data": {
            "text/plain": [
              "'dog'"
            ],
            "application/vnd.google.colaboratory.intrinsic+json": {
              "type": "string"
            }
          },
          "metadata": {},
          "execution_count": 41
        }
      ]
    },
    {
      "cell_type": "code",
      "source": [
        "t[1]"
      ],
      "metadata": {
        "colab": {
          "base_uri": "https://localhost:8080/",
          "height": 36
        },
        "id": "LKaheDMeU9h0",
        "outputId": "92a619fc-5437-455d-bcc0-33bb983524e3"
      },
      "execution_count": 42,
      "outputs": [
        {
          "output_type": "execute_result",
          "data": {
            "text/plain": [
              "'cat'"
            ],
            "application/vnd.google.colaboratory.intrinsic+json": {
              "type": "string"
            }
          },
          "metadata": {},
          "execution_count": 42
        }
      ]
    },
    {
      "cell_type": "markdown",
      "source": [
        "(15)**Write a code to check if the element \"banana\" is in the tuple ('apple', 'orange', 'banana').**"
      ],
      "metadata": {
        "id": "XfVvUV1ESNMc"
      }
    },
    {
      "cell_type": "code",
      "source": [
        "t = ('apple','orange','banana')\n",
        "if 'banana' in t:\n",
        "  print(\"banana is in the tuple\")\n"
      ],
      "metadata": {
        "colab": {
          "base_uri": "https://localhost:8080/"
        },
        "id": "-bY7zI-GSXRY",
        "outputId": "6d19ec21-3415-43af-c6dc-d216730119ee"
      },
      "execution_count": null,
      "outputs": [
        {
          "output_type": "stream",
          "name": "stdout",
          "text": [
            "banana is in the tuple\n"
          ]
        }
      ]
    },
    {
      "cell_type": "markdown",
      "source": [
        "(16)**Write a code to create a set with the elements 1, 2, 3, 4, 5 and print it.**"
      ],
      "metadata": {
        "id": "JugDchAySXym"
      }
    },
    {
      "cell_type": "code",
      "source": [
        "s = {1,2,3,4,5,}\n",
        "s"
      ],
      "metadata": {
        "colab": {
          "base_uri": "https://localhost:8080/"
        },
        "id": "d_LYlMK9SiZh",
        "outputId": "0239a390-aba9-4126-dade-86daae96b761"
      },
      "execution_count": null,
      "outputs": [
        {
          "output_type": "execute_result",
          "data": {
            "text/plain": [
              "{1, 2, 3, 4, 5}"
            ]
          },
          "metadata": {},
          "execution_count": 45
        }
      ]
    },
    {
      "cell_type": "markdown",
      "source": [
        "(17)**Write a code to add the element 6 to the set {1, 2, 3, 4}.**"
      ],
      "metadata": {
        "id": "6U7WmFv0Si3t"
      }
    },
    {
      "cell_type": "code",
      "source": [
        "s = {1,2,3,4,}\n",
        "s.add(6)\n",
        "print(s)"
      ],
      "metadata": {
        "colab": {
          "base_uri": "https://localhost:8080/"
        },
        "id": "RhB8GOwxSrRz",
        "outputId": "79f64f59-efc0-4fdb-e982-8c122e5ceca4"
      },
      "execution_count": 47,
      "outputs": [
        {
          "output_type": "stream",
          "name": "stdout",
          "text": [
            "{1, 2, 3, 4, 6}\n"
          ]
        }
      ]
    },
    {
      "cell_type": "markdown",
      "source": [
        "(18)**Write a code to create a tuple with the elements 10, 20, 30 and print it.**"
      ],
      "metadata": {
        "id": "hC1IsfgaSrqK"
      }
    },
    {
      "cell_type": "code",
      "source": [
        "t = ('10' ,'20','30')"
      ],
      "metadata": {
        "id": "fhCt-DWrS2C-"
      },
      "execution_count": null,
      "outputs": []
    },
    {
      "cell_type": "code",
      "source": [
        "t"
      ],
      "metadata": {
        "colab": {
          "base_uri": "https://localhost:8080/"
        },
        "id": "dlYJZC41u5cD",
        "outputId": "edd253f3-f502-4fd6-d8e0-908fd6ea6fca"
      },
      "execution_count": null,
      "outputs": [
        {
          "output_type": "execute_result",
          "data": {
            "text/plain": [
              "('10', '20', '30')"
            ]
          },
          "metadata": {},
          "execution_count": 43
        }
      ]
    },
    {
      "cell_type": "markdown",
      "source": [
        "(19)**Write a code to access the first element of the tuple ('apple', 'banana', 'cherry').**"
      ],
      "metadata": {
        "id": "HmexZQOQS2k8"
      }
    },
    {
      "cell_type": "code",
      "source": [
        "t = (\"apple\" , \"banana\" , \"cherry\")"
      ],
      "metadata": {
        "id": "d33Nhd3UTAbv"
      },
      "execution_count": null,
      "outputs": []
    },
    {
      "cell_type": "code",
      "source": [
        "t[0]"
      ],
      "metadata": {
        "colab": {
          "base_uri": "https://localhost:8080/",
          "height": 36
        },
        "id": "-agcBMX3tcKp",
        "outputId": "8569d49b-7772-43b5-afdd-9b66fcfae600"
      },
      "execution_count": null,
      "outputs": [
        {
          "output_type": "execute_result",
          "data": {
            "text/plain": [
              "'apple'"
            ],
            "application/vnd.google.colaboratory.intrinsic+json": {
              "type": "string"
            }
          },
          "metadata": {},
          "execution_count": 41
        }
      ]
    },
    {
      "cell_type": "markdown",
      "source": [
        "(20)**Write a code to count how many times the number 2 appears in the tuple (1, 2, 3, 2, 4, 2)**"
      ],
      "metadata": {
        "id": "znXetvYgTCB8"
      }
    },
    {
      "cell_type": "code",
      "source": [
        "t=(1,2,3,2,4,2)\n",
        "count = t.count(2)\n",
        "print(count)\n"
      ],
      "metadata": {
        "id": "l62wHKuPTM7g",
        "colab": {
          "base_uri": "https://localhost:8080/"
        },
        "outputId": "473046bc-d1a7-4cac-bac6-d86dad31f263"
      },
      "execution_count": 52,
      "outputs": [
        {
          "output_type": "stream",
          "name": "stdout",
          "text": [
            "3\n"
          ]
        }
      ]
    },
    {
      "cell_type": "markdown",
      "source": [
        "(21)**Write a code to find the index of the element \"cat\" in the tuple ('dog', 'cat', 'rabbit').**"
      ],
      "metadata": {
        "id": "_oW-TKpDTNZD"
      }
    },
    {
      "cell_type": "code",
      "source": [
        "t=('dog','cat','rabbit')\n",
        "t[1]"
      ],
      "metadata": {
        "id": "vie-ts3VTXbq",
        "colab": {
          "base_uri": "https://localhost:8080/",
          "height": 36
        },
        "outputId": "148fc245-0041-41a0-a08a-2491b022fe1f"
      },
      "execution_count": 48,
      "outputs": [
        {
          "output_type": "execute_result",
          "data": {
            "text/plain": [
              "'cat'"
            ],
            "application/vnd.google.colaboratory.intrinsic+json": {
              "type": "string"
            }
          },
          "metadata": {},
          "execution_count": 48
        }
      ]
    },
    {
      "cell_type": "markdown",
      "source": [
        "(22)**Write a code to check if the element \"banana\" is in the tuple ('apple', 'orange', 'banana').**"
      ],
      "metadata": {
        "id": "5CiKL6a6TX6E"
      }
    },
    {
      "cell_type": "code",
      "source": [
        "t = ('apple','orange','banana')\n",
        "if 'banana' in t:\n",
        "  print(\"banana is in the tuple\")\n"
      ],
      "metadata": {
        "colab": {
          "base_uri": "https://localhost:8080/"
        },
        "id": "JhCR8BJsTgEP",
        "outputId": "7274c2d6-70e4-4a5e-af0f-dd14f2005c58"
      },
      "execution_count": null,
      "outputs": [
        {
          "output_type": "stream",
          "name": "stdout",
          "text": [
            "banana is in the tuple\n"
          ]
        }
      ]
    },
    {
      "cell_type": "markdown",
      "source": [
        "(23)**Write a code to create a set with the elements 1, 2, 3, 4, 5 and print it.**"
      ],
      "metadata": {
        "id": "3vaXU_jnTghV"
      }
    },
    {
      "cell_type": "code",
      "source": [
        "s={1,2,3,4,5,}\n",
        "s"
      ],
      "metadata": {
        "colab": {
          "base_uri": "https://localhost:8080/"
        },
        "id": "R68zgN3OTpYS",
        "outputId": "a0d4dc9e-d77f-4606-a6e2-67bc0ae817a6"
      },
      "execution_count": null,
      "outputs": [
        {
          "output_type": "execute_result",
          "data": {
            "text/plain": [
              "{1, 2, 3, 4, 5}"
            ]
          },
          "metadata": {},
          "execution_count": 49
        }
      ]
    },
    {
      "cell_type": "markdown",
      "source": [
        "(24)**Write a code to add the element 6 to the set {1, 2, 3, 4}.**"
      ],
      "metadata": {
        "id": "KXZF44E4Tp4S"
      }
    },
    {
      "cell_type": "code",
      "source": [
        "s= {1,2,3,4}\n",
        "s.add(6)\n",
        "print(s)"
      ],
      "metadata": {
        "id": "h2IsW9nATw8b",
        "colab": {
          "base_uri": "https://localhost:8080/"
        },
        "outputId": "fddcd5f4-4328-4909-b811-bd18bdd4a41e"
      },
      "execution_count": 49,
      "outputs": [
        {
          "output_type": "stream",
          "name": "stdout",
          "text": [
            "{1, 2, 3, 4, 6}\n"
          ]
        }
      ]
    }
  ]
}